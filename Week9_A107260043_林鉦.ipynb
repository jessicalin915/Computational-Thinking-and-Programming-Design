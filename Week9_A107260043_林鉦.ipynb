{
  "nbformat": 4,
  "nbformat_minor": 0,
  "metadata": {
    "colab": {
      "name": "Week9-A107260043-林鉦.ipynb",
      "provenance": [],
      "include_colab_link": true
    },
    "kernelspec": {
      "name": "python3",
      "display_name": "Python 3"
    }
  },
  "cells": [
    {
      "cell_type": "markdown",
      "metadata": {
        "id": "view-in-github",
        "colab_type": "text"
      },
      "source": [
        "<a href=\"https://colab.research.google.com/github/jessicalin915/Computational-Thinking-and-Programming-Design/blob/master/Week9_A107260043_%E6%9E%97%E9%89%A6.ipynb\" target=\"_parent\"><img src=\"https://colab.research.google.com/assets/colab-badge.svg\" alt=\"Open In Colab\"/></a>"
      ]
    },
    {
      "cell_type": "code",
      "metadata": {
        "id": "vcyziQOqd-JQ",
        "colab_type": "code",
        "colab": {
          "base_uri": "https://localhost:8080/",
          "height": 119
        },
        "outputId": "4cb0b769-cb7b-4cd5-f381-01c772321f7b"
      },
      "source": [
        "print(8==7)\n",
        "print(8!=7)\n",
        "print(8>7)\n",
        "print(8>=7)\n",
        "print(8<7)\n",
        "print(8<=7)"
      ],
      "execution_count": 1,
      "outputs": [
        {
          "output_type": "stream",
          "text": [
            "False\n",
            "True\n",
            "True\n",
            "True\n",
            "False\n",
            "False\n"
          ],
          "name": "stdout"
        }
      ]
    },
    {
      "cell_type": "code",
      "metadata": {
        "id": "QVOGlwFbeVh6",
        "colab_type": "code",
        "colab": {
          "base_uri": "https://localhost:8080/",
          "height": 68
        },
        "outputId": "1b784914-31fd-4d2b-990d-d56322da9bfb"
      },
      "source": [
        "print(True and False)\n",
        "print(True or False)\n",
        "print(not(8>7))"
      ],
      "execution_count": 2,
      "outputs": [
        {
          "output_type": "stream",
          "text": [
            "False\n",
            "True\n",
            "False\n"
          ],
          "name": "stdout"
        }
      ]
    },
    {
      "cell_type": "code",
      "metadata": {
        "id": "dd4uEwaufZtQ",
        "colab_type": "code",
        "colab": {
          "base_uri": "https://localhost:8080/",
          "height": 68
        },
        "outputId": "4055d17f-b6be-44e7-962a-a7a971109606"
      },
      "source": [
        "X=70\n",
        "print((X>60)and (X<80))\n",
        "print((X>60)or (X<80))\n",
        "print(not(X>60))"
      ],
      "execution_count": 3,
      "outputs": [
        {
          "output_type": "stream",
          "text": [
            "True\n",
            "True\n",
            "False\n"
          ],
          "name": "stdout"
        }
      ]
    },
    {
      "cell_type": "code",
      "metadata": {
        "id": "vOAs-qfafsEV",
        "colab_type": "code",
        "colab": {
          "base_uri": "https://localhost:8080/",
          "height": 85
        },
        "outputId": "712acb10-8b30-415f-a430-529db65044ac"
      },
      "source": [
        "print(8 is 7)\n",
        "print(8 is not 7)\n",
        "print(\"H\" in \"Hello world\")\n",
        "print(\"H\" not in \"Hello world\")"
      ],
      "execution_count": 4,
      "outputs": [
        {
          "output_type": "stream",
          "text": [
            "False\n",
            "True\n",
            "True\n",
            "False\n"
          ],
          "name": "stdout"
        }
      ]
    },
    {
      "cell_type": "code",
      "metadata": {
        "id": "riJS2Oo7f5W_",
        "colab_type": "code",
        "colab": {
          "base_uri": "https://localhost:8080/",
          "height": 102
        },
        "outputId": "78ea27ee-a90f-4479-b05d-bc928fd478fd"
      },
      "source": [
        "x=1\n",
        "y=[1,2,3]\n",
        "print(x in y)\n",
        "print(x not in y)\n",
        "x=[1,2,3]\n",
        "y=[1,2,3]\n",
        "print(id(x),id(y))\n",
        "print(x is y)\n",
        "print(x is not y)\n"
      ],
      "execution_count": 5,
      "outputs": [
        {
          "output_type": "stream",
          "text": [
            "True\n",
            "False\n",
            "140165165254728 140165164277832\n",
            "False\n",
            "True\n"
          ],
          "name": "stdout"
        }
      ]
    },
    {
      "cell_type": "code",
      "metadata": {
        "id": "4P15yqKRgL4E",
        "colab_type": "code",
        "colab": {
          "base_uri": "https://localhost:8080/",
          "height": 51
        },
        "outputId": "6aba94ff-16ae-4897-a435-cdb9c8f3eb06"
      },
      "source": [
        "score = int(input('請輸入一個成績?'))\n",
        "if score >= 60:\n",
        "   print('很好,請繼續保持下去')"
      ],
      "execution_count": 11,
      "outputs": [
        {
          "output_type": "stream",
          "text": [
            "請輸入一個成績?88\n",
            "很好,請繼續保持下去\n"
          ],
          "name": "stdout"
        }
      ]
    },
    {
      "cell_type": "code",
      "metadata": {
        "id": "dW2D8lp6gg9Z",
        "colab_type": "code",
        "colab": {
          "base_uri": "https://localhost:8080/",
          "height": 51
        },
        "outputId": "2603c6b0-4df4-45ad-de3a-48579244ed21"
      },
      "source": [
        "score = int(input('請輸入一個成績?'))\n",
        "if score >= 60:\n",
        "    print('有及格ㄡ~')\n",
        "else:\n",
        "    print('不及格ㄟ!')"
      ],
      "execution_count": 15,
      "outputs": [
        {
          "output_type": "stream",
          "text": [
            "請輸入一個成績?50\n",
            "不及格ㄟ!\n"
          ],
          "name": "stdout"
        }
      ]
    },
    {
      "cell_type": "code",
      "metadata": {
        "id": "kqh-XqXWhkea",
        "colab_type": "code",
        "colab": {
          "base_uri": "https://localhost:8080/",
          "height": 51
        },
        "outputId": "89bfec1b-30c9-4ab6-be24-e7d54a7c6e4c"
      },
      "source": [
        "score = int(input('請輸入一個成績?'))\n",
        "if score >= 80:\n",
        "    print('非常好')\n",
        "elif score >= 60:\n",
        "    print('不錯喔')\n",
        "else:\n",
        "    print('要加油')"
      ],
      "execution_count": 18,
      "outputs": [
        {
          "output_type": "stream",
          "text": [
            "請輸入一個成績?66\n",
            "不錯喔\n"
          ],
          "name": "stdout"
        }
      ]
    },
    {
      "cell_type": "code",
      "metadata": {
        "id": "aEhr-v30id3j",
        "colab_type": "code",
        "colab": {
          "base_uri": "https://localhost:8080/",
          "height": 68
        },
        "outputId": "7d18a475-b426-47cb-f12d-82dde64c01d5"
      },
      "source": [
        "x = float(input('請輸入該點的X座標?')) \n",
        "y = float(input('請輸入該點的Y座標?'))\n",
        "if (x > 0):\n",
        "  if (y > 0):\n",
        "    print('該點在第一象限') \n",
        "  else:\n",
        "    print('該點在第四象限') \n",
        "else:\n",
        "  if (y > 0):\n",
        "    print('該點在第二象限')  \n",
        "  else:\n",
        "     print('該點在第三象限') "
      ],
      "execution_count": 20,
      "outputs": [
        {
          "output_type": "stream",
          "text": [
            "請輸入該點的X座標?1\n",
            "請輸入該點的Y座標?1\n",
            "該點在第一象限\n"
          ],
          "name": "stdout"
        }
      ]
    },
    {
      "cell_type": "code",
      "metadata": {
        "id": "0uaI6o8BjesY",
        "colab_type": "code",
        "colab": {
          "base_uri": "https://localhost:8080/",
          "height": 51
        },
        "outputId": "52620513-ee26-4f62-e81c-5d105bd0c053"
      },
      "source": [
        " cost=int(input('請輸入購買金額?'))\n",
        "if cost >=2000:\n",
        "     print(cost*0.9)\n",
        "else:\n",
        "     print(cost)"
      ],
      "execution_count": 21,
      "outputs": [
        {
          "output_type": "stream",
          "text": [
            "請輸入購買金額?2000\n",
            "1800.0\n"
          ],
          "name": "stdout"
        }
      ]
    },
    {
      "cell_type": "code",
      "metadata": {
        "id": "nlVIZ38xkWhq",
        "colab_type": "code",
        "colab": {
          "base_uri": "https://localhost:8080/",
          "height": 51
        },
        "outputId": "d9da1ecd-c7b7-4502-b4be-47f141879601"
      },
      "source": [
        "num=int(input('請輸入一個整數?'))\n",
        "if num%2==0:\n",
        "  print(num,'為偶數')\n",
        "else:\n",
        "  print(num,'為奇數')"
      ],
      "execution_count": 22,
      "outputs": [
        {
          "output_type": "stream",
          "text": [
            "請輸入一個整數?13\n",
            "13 為奇數\n"
          ],
          "name": "stdout"
        }
      ]
    },
    {
      "cell_type": "code",
      "metadata": {
        "id": "xpXaXW3ukzQk",
        "colab_type": "code",
        "colab": {
          "base_uri": "https://localhost:8080/",
          "height": 51
        },
        "outputId": "2e39cc28-4d53-4320-8f81-1ace3d2eaa09"
      },
      "source": [
        "num=int(input('請輸入一個整數?'))\n",
        "if num%2==1:\n",
        "  print(num,'為奇數')\n",
        "else:\n",
        "  print(num,'為偶數')"
      ],
      "execution_count": 24,
      "outputs": [
        {
          "output_type": "stream",
          "text": [
            "請輸入一個整數?10\n",
            "10 為偶數\n"
          ],
          "name": "stdout"
        }
      ]
    },
    {
      "cell_type": "code",
      "metadata": {
        "id": "QtqCk2v8laKt",
        "colab_type": "code",
        "colab": {
          "base_uri": "https://localhost:8080/",
          "height": 85
        },
        "outputId": "80d6a12e-04ff-4aab-a195-4699600cf899"
      },
      "source": [
        "a=int(input('請輸入三角形邊長a長度為?'))\n",
        "b=int(input('請輸入三角形邊長b長度為?'))\n",
        "c=int(input('請輸入三角形邊長c長度為?'))\n",
        "\n",
        "if(a<b+c)and(b<a+c)and(c<a+b):\n",
        "  print('可構成三角形')\n",
        "else:\n",
        "  print('無法構成三角形')\n"
      ],
      "execution_count": 25,
      "outputs": [
        {
          "output_type": "stream",
          "text": [
            "請輸入三角形邊長a長度為?11\n",
            "請輸入三角形邊長b長度為?12\n",
            "請輸入三角形邊長c長度為?13\n",
            "可構成三角形\n"
          ],
          "name": "stdout"
        }
      ]
    },
    {
      "cell_type": "code",
      "metadata": {
        "id": "4LJYTjNRmQ3C",
        "colab_type": "code",
        "colab": {
          "base_uri": "https://localhost:8080/",
          "height": 85
        },
        "outputId": "5602c88e-1db2-482d-943e-35f33b9152c4"
      },
      "source": [
        "w=float(input('請輸入體重(KG)?'))\n",
        "h=float(input('請輸入身高(M)?'))\n",
        "bmi=w/(h*h)\n",
        "print('BMI為',bmi)\n",
        "\n",
        "if bmi<18:\n",
        "  print('體重過輕')\n",
        "elif bmi<24:\n",
        "  print('體重正常')\n",
        "elif bmi<27:\n",
        "  print('體重過重')\n",
        "else:\n",
        "  print('體重肥胖')"
      ],
      "execution_count": 26,
      "outputs": [
        {
          "output_type": "stream",
          "text": [
            "請輸入體重(KG)?75\n",
            "請輸入身高(M)?1.7\n",
            "BMI為 25.95155709342561\n",
            "體重過重\n"
          ],
          "name": "stdout"
        }
      ]
    },
    {
      "cell_type": "code",
      "metadata": {
        "id": "6Z3FqblGnCoE",
        "colab_type": "code",
        "colab": {}
      },
      "source": [
        ""
      ],
      "execution_count": 0,
      "outputs": []
    }
  ]
}